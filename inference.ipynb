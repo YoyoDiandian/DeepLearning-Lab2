{
 "cells": [
  {
   "cell_type": "code",
   "execution_count": 3,
   "id": "c48b6863",
   "metadata": {},
   "outputs": [
    {
     "name": "stdout",
     "output_type": "stream",
     "text": [
      "正确分类: 5\n"
     ]
    },
    {
     "name": "stderr",
     "output_type": "stream",
     "text": [
      "/var/folders/xz/hx0fdggx1yd005l9y1x7hszw0000gn/T/ipykernel_34954/512034416.py:20: FutureWarning: You are using `torch.load` with `weights_only=False` (the current default value), which uses the default pickle module implicitly. It is possible to construct malicious pickle data which will execute arbitrary code during unpickling (See https://github.com/pytorch/pytorch/blob/main/SECURITY.md#untrusted-models for more details). In a future release, the default value for `weights_only` will be flipped to `True`. This limits the functions that could be executed during unpickling. Arbitrary objects will no longer be allowed to be loaded via this mode unless they are explicitly allowlisted by the user via `torch.serialization.add_safe_globals`. We recommend you start setting `weights_only=True` for any use case where you don't have full control of the loaded file. Please open an issue on GitHub for any issues related to this experimental feature.\n",
      "  model.load_state_dict(torch.load('model.pth', map_location=torch.device(DEVICE)))\n"
     ]
    },
    {
     "data": {
      "image/png": "[encoded data removed]",
      "text/plain": [
       "<Figure size 640x480 with 1 Axes>"
      ]
     },
     "metadata": {},
     "output_type": "display_data"
    },
    {
     "name": "stdout",
     "output_type": "stream",
     "text": [
      "tensor([[-0.2271, -0.2303, -0.4151,  0.4338, -0.6369,  0.7502, -0.0465, -0.4261,\n",
      "          0.0842, -0.0870]])\n",
      "CLIP分类: 5\n"
     ]
    },
    {
     "data": {
      "image/png": "[encoded data removed]",
      "text/plain": [
       "<Figure size 1500x1500 with 5 Axes>"
      ]
     },
     "metadata": {},
     "output_type": "display_data"
    },
    {
     "name": "stdout",
     "output_type": "stream",
     "text": [
      "\n",
      "在整个MNIST数据集上评估CLIP模型性能:\n"
     ]
    },
    {
     "name": "stderr",
     "output_type": "stream",
     "text": [
      "100%|██████████| 60000/60000 [00:10<00:00, 5644.38it/s]"
     ]
    },
    {
     "name": "stdout",
     "output_type": "stream",
     "text": [
      "模型在MNIST数据集上的总体准确率: 98.13%\n",
      "正确预测: 58879/60000\n",
      "\n",
      "各数字类别的准确率:\n",
      "数字 0: 98.50% (5834/5923)\n",
      "数字 1: 99.50% (6708/6742)\n",
      "数字 2: 97.15% (5788/5958)\n",
      "数字 3: 98.65% (6048/6131)\n",
      "数字 4: 98.65% (5763/5842)\n",
      "数字 5: 99.17% (5376/5421)\n",
      "数字 6: 99.36% (5880/5918)\n",
      "数字 7: 98.93% (6198/6265)\n",
      "数字 8: 96.26% (5632/5851)\n",
      "数字 9: 95.01% (5652/5949)\n"
     ]
    },
    {
     "name": "stderr",
     "output_type": "stream",
     "text": [
      "\n"
     ]
    }
   ],
   "source": [
    "'''\n",
    "CLIP能力演示\n",
    "\n",
    "1、对图片做分类\n",
    "2、对图片求相图片\n",
    "\n",
    "'''\n",
    "\n",
    "from dataset import MNIST\n",
    "import matplotlib.pyplot as plt\n",
    "import torch\n",
    "from clip import CLIP\n",
    "import torch.nn.functional as F\n",
    "\n",
    "DEVICE='cuda' if torch.cuda.is_available() else 'cpu'   # 设备\n",
    "\n",
    "dataset=MNIST() # 数据集\n",
    "\n",
    "model=CLIP().to(DEVICE) # 模型\n",
    "model.load_state_dict(torch.load('model.pth', map_location=torch.device(DEVICE)))\n",
    "\n",
    "model.eval()    # 预测模式\n",
    "\n",
    "'''\n",
    "1、对图片分类\n",
    "'''\n",
    "image,label=dataset[0]\n",
    "print('正确分类:',label)\n",
    "plt.imshow(image.permute(1,2,0))\n",
    "plt.show()\n",
    "\n",
    "\n",
    "### TODO: TASK 3: 完成CLIP模型进行预测的代码 (BEGIN)\n",
    "\n",
    "with torch.no_grad():\n",
    "    # 为每个数字(0-9)生成文本嵌入\n",
    "    all_text_embeddings = model.text_enc(torch.arange(10).to(DEVICE))\n",
    "    # 获取图像嵌入\n",
    "    image_embedding = model.img_enc(image.unsqueeze(0).to(DEVICE))\n",
    "\n",
    "    # 规范化嵌入\n",
    "    image_embedding = image_embedding / image_embedding.norm(dim=1, keepdim=True)\n",
    "    all_text_embeddings = all_text_embeddings / all_text_embeddings.norm(dim=1, keepdim=True)\n",
    "\n",
    "    # 计算相似度\n",
    "    similarity = torch.mm(image_embedding, all_text_embeddings.t())\n",
    "    print(similarity)\n",
    "\n",
    "    # 选择相似度最高的作为预测结果\n",
    "    predicted_label = similarity.argmax(dim=1).item()\n",
    "\n",
    "### TODO: TASK 3: 完成CLIP模型进行预测的代码 (END)\n",
    "\n",
    "print('CLIP分类:', predicted_label)\n",
    "\n",
    "'''\n",
    "2、图像相似度\n",
    "'''\n",
    "other_images=[]\n",
    "other_labels=[]\n",
    "for i in range(1,101):\n",
    "    other_image,other_label=dataset[i]\n",
    "    other_images.append(other_image)\n",
    "    other_labels.append(other_label)\n",
    "\n",
    "### TODO: TASK 4: 使用CLIP的image encoder，从other_images里检索和image最相似的5张图像 (BEGIN)\n",
    "\n",
    "with torch.no_grad():\n",
    "    # 将其他图像转换为张量\n",
    "    other_images_tensor = torch.stack(other_images).to(DEVICE)\n",
    "\n",
    "    # 使用图像编码器获取图像嵌入\n",
    "    query_embedding = model.img_enc(image.unsqueeze(0).to(DEVICE))\n",
    "    other_embeddings = model.img_enc(other_images_tensor)\n",
    "\n",
    "    # 规范化嵌入\n",
    "    query_embedding = query_embedding / query_embedding.norm(dim=1, keepdim=True)\n",
    "    other_embeddings = other_embeddings / other_embeddings.norm(dim=1, keepdim=True)\n",
    "\n",
    "    # 计算相似度\n",
    "    similarities = torch.mm(query_embedding, other_embeddings.t())\n",
    "\n",
    "    # 获取相似度最高的5个索引\n",
    "    indexs = similarities[0].topk(5).indices.cpu().numpy().tolist()\n",
    "\n",
    "### TODO: TASK 4: 使用CLIP的image encoder，从other_images里检索和image最相似的5张图像 (END)\n",
    "\n",
    "plt.figure(figsize=(15,15))\n",
    "for i,img_idx in enumerate(indexs):\n",
    "    plt.subplot(1,5,i+1)\n",
    "    plt.imshow(other_images[img_idx].permute(1,2,0))\n",
    "    plt.title(other_labels[img_idx])\n",
    "    plt.axis('off')\n",
    "plt.savefig(f\"output/similarity{label}.pdf\")\n",
    "plt.show()\n",
    "\n",
    "# 在文件末尾添加\n",
    "\n",
    "'''\n",
    "3、在整个MNIST数据集上评估CLIP模型性能\n",
    "'''\n",
    "print(\"\\n在整个MNIST数据集上评估CLIP模型性能:\")\n",
    "\n",
    "# 使用tqdm创建进度条(如果没有安装可以使用pip install tqdm安装)\n",
    "from tqdm import tqdm\n",
    "\n",
    "correct = 0\n",
    "total = 0\n",
    "class_correct = [0] * 10\n",
    "class_total = [0] * 10\n",
    "\n",
    "with torch.no_grad():\n",
    "    # 为每个数字(0-9)生成文本嵌入(只需计算一次)\n",
    "    all_text_embeddings = model.text_enc(torch.arange(10).to(DEVICE))\n",
    "    all_text_embeddings = all_text_embeddings / all_text_embeddings.norm(dim=1, keepdim=True)\n",
    "    \n",
    "    # 遍历数据集中的所有样本\n",
    "    for i in tqdm(range(len(dataset))):\n",
    "        image, label = dataset[i]\n",
    "        \n",
    "        # 获取图像嵌入\n",
    "        image_embedding = model.img_enc(image.unsqueeze(0).to(DEVICE))\n",
    "        image_embedding = image_embedding / image_embedding.norm(dim=1, keepdim=True)\n",
    "        \n",
    "        # 计算相似度\n",
    "        similarity = torch.mm(image_embedding, all_text_embeddings.t())\n",
    "        \n",
    "        # 选择相似度最高的作为预测结果\n",
    "        predicted_label = similarity.argmax(dim=1).item()\n",
    "        \n",
    "        # 统计正确预测的数量\n",
    "        total += 1\n",
    "        if predicted_label == label:\n",
    "            correct += 1\n",
    "            class_correct[label] += 1\n",
    "        class_total[label] += 1\n",
    "\n",
    "# 计算并打印总体准确率\n",
    "accuracy = 100 * correct / total\n",
    "print(f'模型在MNIST数据集上的总体准确率: {accuracy:.2f}%')\n",
    "print(f'正确预测: {correct}/{total}')\n",
    "\n",
    "# 打印每个类别的准确率\n",
    "print(\"\\n各数字类别的准确率:\")\n",
    "for i in range(10):\n",
    "    class_acc = 100 * class_correct[i] / class_total[i]\n",
    "    print(f'数字 {i}: {class_acc:.2f}% ({class_correct[i]}/{class_total[i]})')"
   ]
  }
 ],
 "metadata": {
  "kernelspec": {
   "display_name": "Python 3",
   "language": "python",
   "name": "python3"
  },
  "language_info": {
   "codemirror_mode": {
    "name": "ipython",
    "version": 3
   },
   "file_extension": ".py",
   "mimetype": "text/x-python",
   "name": "python",
   "nbconvert_exporter": "python",
   "pygments_lexer": "ipython3",
   "version": "3.12.6"
  }
 },
 "nbformat": 4,
 "nbformat_minor": 5
}
